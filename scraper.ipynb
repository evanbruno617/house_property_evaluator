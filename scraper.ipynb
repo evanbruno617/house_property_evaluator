{
 "cells": [
  {
   "cell_type": "code",
   "execution_count": 1,
   "id": "dae78158",
   "metadata": {},
   "outputs": [],
   "source": [
    "# import dependencies \n",
    "import pandas as pd\n",
    "from splinter import Browser\n",
    "from bs4 import BeautifulSoup as soup\n",
    "import pandas as pd\n",
    "import datetime as dt\n",
    "from webdriver_manager.chrome import ChromeDriverManager\n",
    "import time\n",
    "import numpy as np\n",
    "import os\n",
    "import random"
   ]
  },
  {
   "cell_type": "code",
   "execution_count": 2,
   "id": "f67f78f1",
   "metadata": {},
   "outputs": [
    {
     "name": "stderr",
     "output_type": "stream",
     "text": [
      "\n",
      "\n",
      "====== WebDriver manager ======\n",
      "Current google-chrome version is 114.0.5735\n",
      "Get LATEST chromedriver version for 114.0.5735 google-chrome\n",
      "Driver [/Users/evanbruno/.wdm/drivers/chromedriver/mac64/114.0.5735.90/chromedriver] found in cache\n"
     ]
    }
   ],
   "source": [
    "# open browser\n",
    "executable_path = {'executable_path': ChromeDriverManager().install()}\n",
    "browser = Browser('chrome', **executable_path, headless=False)"
   ]
  },
  {
   "cell_type": "code",
   "execution_count": 3,
   "id": "ffa846fe",
   "metadata": {},
   "outputs": [],
   "source": [
    "# visit page \n",
    "url = 'https://california.reaproject.org/data-tables/gsp-a200n/tools/60001/'\n",
    "browser.visit(url)"
   ]
  },
  {
   "cell_type": "code",
   "execution_count": 6,
   "id": "adf2290e",
   "metadata": {},
   "outputs": [],
   "source": [
    "html = browser.html\n",
    "test = soup(html, 'html.parser')"
   ]
  },
  {
   "cell_type": "code",
   "execution_count": 7,
   "id": "9927ab84",
   "metadata": {},
   "outputs": [],
   "source": [
    "# obtain counties and IDs\n",
    "\n",
    "counties = {}\n",
    "\n",
    "for i in test.find(id='toswoeubfdtqdbfdanvbsfrodnqrtvsf').find('tbody').find_all('tr'):\n",
    "    for row in i.find_all('td'):\n",
    "        \n",
    "        county = row.get_text()\n",
    "        counties[county] = row.find('input').get('id')"
   ]
  },
  {
   "cell_type": "code",
   "execution_count": 8,
   "id": "4e594d87",
   "metadata": {},
   "outputs": [
    {
     "data": {
      "text/plain": [
       "{'Alameda': 'sel_60001',\n",
       " 'Orange': 'sel_60059',\n",
       " 'Alpine': 'sel_60003',\n",
       " 'Placer': 'sel_60061',\n",
       " 'Amador': 'sel_60005',\n",
       " 'Plumas': 'sel_60063',\n",
       " 'Butte': 'sel_60007',\n",
       " 'Riverside': 'sel_60065',\n",
       " 'Calaveras': 'sel_60009',\n",
       " 'Sacramento': 'sel_60067',\n",
       " 'Colusa': 'sel_60011',\n",
       " 'San Benito': 'sel_60069',\n",
       " 'Contra Costa': 'sel_60013',\n",
       " 'San Bernardino': 'sel_60071',\n",
       " 'Del Norte': 'sel_60015',\n",
       " 'San Diego': 'sel_60073',\n",
       " 'El Dorado': 'sel_60017',\n",
       " 'San Francisco': 'sel_60075',\n",
       " 'Fresno': 'sel_60019',\n",
       " 'San Joaquin': 'sel_60077',\n",
       " 'Glenn': 'sel_60021',\n",
       " 'San Luis Obispo': 'sel_60079',\n",
       " 'Humboldt': 'sel_60023',\n",
       " 'San Mateo': 'sel_60081',\n",
       " 'Imperial': 'sel_60025',\n",
       " 'Santa Barbara': 'sel_60083',\n",
       " 'Inyo': 'sel_60027',\n",
       " 'Santa Clara': 'sel_60085',\n",
       " 'Kern': 'sel_60029',\n",
       " 'Santa Cruz': 'sel_60087',\n",
       " 'Kings': 'sel_60031',\n",
       " 'Shasta': 'sel_60089',\n",
       " 'Lake': 'sel_60033',\n",
       " 'Sierra': 'sel_60091',\n",
       " 'Lassen': 'sel_60035',\n",
       " 'Siskiyou': 'sel_60093',\n",
       " 'Los Angeles': 'sel_60037',\n",
       " 'Solano': 'sel_60095',\n",
       " 'Madera': 'sel_60039',\n",
       " 'Sonoma': 'sel_60097',\n",
       " 'Marin': 'sel_60041',\n",
       " 'Stanislaus': 'sel_60099',\n",
       " 'Mariposa': 'sel_60043',\n",
       " 'Sutter': 'sel_60101',\n",
       " 'Mendocino': 'sel_60045',\n",
       " 'Tehama': 'sel_60103',\n",
       " 'Merced': 'sel_60047',\n",
       " 'Trinity': 'sel_60105',\n",
       " 'Modoc': 'sel_60049',\n",
       " 'Tulare': 'sel_60107',\n",
       " 'Mono': 'sel_60051',\n",
       " 'Tuolumne': 'sel_60109',\n",
       " 'Monterey': 'sel_60053',\n",
       " 'Ventura': 'sel_60111',\n",
       " 'Napa': 'sel_60055',\n",
       " 'Yolo': 'sel_60113',\n",
       " 'Nevada': 'sel_60057',\n",
       " 'Yuba': 'sel_60115'}"
      ]
     },
     "execution_count": 8,
     "metadata": {},
     "output_type": "execute_result"
    }
   ],
   "source": [
    "counties"
   ]
  },
  {
   "cell_type": "code",
   "execution_count": 25,
   "id": "91a09b27",
   "metadata": {},
   "outputs": [],
   "source": [
    "html = browser.html\n",
    "test = soup(html, 'html.parser')"
   ]
  },
  {
   "cell_type": "code",
   "execution_count": 10,
   "id": "9d346185",
   "metadata": {},
   "outputs": [],
   "source": [
    "# iterate through table IDs\n",
    "\n",
    "tables_id = ['page_1', 'page_2', 'page_3']"
   ]
  },
  {
   "cell_type": "code",
   "execution_count": 26,
   "id": "3d45b0ed",
   "metadata": {},
   "outputs": [],
   "source": [
    "# iterate through county IDs\n",
    "\n",
    "for county in counties:\n",
    "    id_county = counties[county]\n",
    "    \n",
    "    #click on each county\n",
    "    \n",
    "    browser.find_by_id(id_county).click()\n",
    "    \n",
    "    time.sleep(3)\n",
    "    \n",
    "    html = browser.html\n",
    "    test = soup(html, 'html.parser')\n",
    "    \n",
    "    data = {}\n",
    "\n",
    "    for page in tables_id:\n",
    "\n",
    "        years = []\n",
    "        \n",
    "        # get years of each section\n",
    "\n",
    "        for i in test.find(id=page).find(class_='report_table_data').find('tbody').find('tr'):\n",
    "            pl = i.get_text()\n",
    "\n",
    "            if pl == '' or pl == '\\xa0':\n",
    "                continue\n",
    "            \n",
    "            else:\n",
    "                years.append(pl)\n",
    "                data[pl] = []\n",
    "\n",
    "        # iterate thorugh each industry and append data to each year\n",
    "\n",
    "        for i in test.find(id=page).find(class_='report_table_data').find('tbody').find_all('tr')[3:-2]:\n",
    "\n",
    "            industry = i.find('td').get_text().strip()\n",
    "\n",
    "            init = 0\n",
    "\n",
    "            for row in i.find_all('td')[2:]:\n",
    "                \n",
    "                if row.get_text() == '\\xa0':\n",
    "                    continue\n",
    "\n",
    "                if row.get_text() == 'S':\n",
    "                    data[years[init]].append(np.nan)\n",
    "                else:\n",
    "\n",
    "                    data[years[init]].append(int(row.get_text().replace(',', '')))\n",
    "\n",
    "                init += 1\n",
    "                \n",
    "    # convert dict to df\n",
    "                \n",
    "    data_df = pd.DataFrame.from_dict(data, orient='index', columns=industries)\n",
    "                \n",
    "    mypath = 'Counties'\n",
    "    if not os.path.isdir(mypath):\n",
    "        os.makedirs(mypath)\n",
    "\n",
    "    data_df.to_csv(f\"{mypath}/{county}.csv\", index=True)"
   ]
  },
  {
   "cell_type": "code",
   "execution_count": 13,
   "id": "d72264f1",
   "metadata": {},
   "outputs": [],
   "source": [
    "# obtain all industry names for dataframe\n",
    "\n",
    "industries = []\n",
    "\n",
    "for i in test.find(id='page_1').find(class_='report_table_data').find('tbody').find_all('tr')[3:-1]:\n",
    "    \n",
    "    industry = i.find('td').get_text().strip()\n",
    "    \n",
    "    if industry == '':\n",
    "        continue\n",
    "        \n",
    "    industries.append(industry)"
   ]
  },
  {
   "cell_type": "code",
   "execution_count": 38,
   "id": "4c445bd0",
   "metadata": {},
   "outputs": [],
   "source": [
    "browser.quit()"
   ]
  },
  {
   "cell_type": "code",
   "execution_count": null,
   "id": "9263729b",
   "metadata": {},
   "outputs": [],
   "source": []
  }
 ],
 "metadata": {
  "kernelspec": {
   "display_name": "PythonData",
   "language": "python",
   "name": "pythondata"
  },
  "language_info": {
   "codemirror_mode": {
    "name": "ipython",
    "version": 3
   },
   "file_extension": ".py",
   "mimetype": "text/x-python",
   "name": "python",
   "nbconvert_exporter": "python",
   "pygments_lexer": "ipython3",
   "version": "3.9.7"
  }
 },
 "nbformat": 4,
 "nbformat_minor": 5
}
