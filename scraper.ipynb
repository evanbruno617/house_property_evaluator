{
 "cells": [
  {
   "cell_type": "code",
   "execution_count": 2,
   "id": "dae78158",
   "metadata": {},
   "outputs": [],
   "source": [
    "# import dependencies \n",
    "import pandas as pd\n",
    "from splinter import Browser\n",
    "from bs4 import BeautifulSoup as soup\n",
    "import pandas as pd\n",
    "import datetime as dt\n",
    "from webdriver_manager.chrome import ChromeDriverManager\n",
    "import time\n",
    "import numpy as np\n",
    "import os\n",
    "import random"
   ]
  },
  {
   "cell_type": "code",
   "execution_count": 3,
   "id": "f67f78f1",
   "metadata": {},
   "outputs": [
    {
     "name": "stderr",
     "output_type": "stream",
     "text": [
      "\n",
      "\n",
      "====== WebDriver manager ======\n",
      "Current google-chrome version is 113.0.5672\n",
      "Get LATEST chromedriver version for 113.0.5672 google-chrome\n",
      "Driver [/Users/evanbruno/.wdm/drivers/chromedriver/mac64/113.0.5672.63/chromedriver] found in cache\n"
     ]
    }
   ],
   "source": [
    "# open browser\n",
    "executable_path = {'executable_path': ChromeDriverManager().install()}\n",
    "browser = Browser('chrome', **executable_path, headless=False)"
   ]
  },
  {
   "cell_type": "code",
   "execution_count": 4,
   "id": "ffa846fe",
   "metadata": {},
   "outputs": [],
   "source": [
    "# visit nba page \n",
    "url = 'https://www.realtor.com/propertyrecord-search/California'\n",
    "browser.visit(url)"
   ]
  },
  {
   "cell_type": "code",
   "execution_count": 5,
   "id": "adf2290e",
   "metadata": {},
   "outputs": [],
   "source": [
    "html = browser.html\n",
    "test = soup(html, 'html.parser')"
   ]
  },
  {
   "cell_type": "code",
   "execution_count": 13,
   "id": "9927ab84",
   "metadata": {},
   "outputs": [],
   "source": [
    "counties = {}\n",
    "\n",
    "for i in test.find(class_='styles__CountyListingStyle-sc-1yhl5eb-1 bLCCbO property-records-content').find_all('li'):\n",
    "    county = i.get_text()\n",
    "    \n",
    "    counties[county] = i.find('a').get('href')"
   ]
  },
  {
   "cell_type": "code",
   "execution_count": 14,
   "id": "4e594d87",
   "metadata": {},
   "outputs": [
    {
     "data": {
      "text/plain": [
       "{'Alameda County': '/propertyrecord-search/Alameda-County_CA',\n",
       " 'Alpine County': '/propertyrecord-search/Alpine-County_CA',\n",
       " 'Amador County': '/propertyrecord-search/Amador-County_CA',\n",
       " 'Butte County': '/propertyrecord-search/Butte-County_CA',\n",
       " 'Calaveras County': '/propertyrecord-search/Calaveras-County_CA',\n",
       " 'Colusa County': '/propertyrecord-search/Colusa-County_CA',\n",
       " 'Contra Costa County': '/propertyrecord-search/Contra-Costa-County_CA',\n",
       " 'Del Norte County': '/propertyrecord-search/Del-Norte-County_CA',\n",
       " 'El Dorado County': '/propertyrecord-search/El-Dorado-County_CA',\n",
       " 'Fresno County': '/propertyrecord-search/Fresno-County_CA',\n",
       " 'Glenn County': '/propertyrecord-search/Glenn-County_CA',\n",
       " 'Humboldt County': '/propertyrecord-search/Humboldt-County_CA',\n",
       " 'Imperial County': '/propertyrecord-search/Imperial-County_CA',\n",
       " 'Inyo County': '/propertyrecord-search/Inyo-County_CA',\n",
       " 'Kern County': '/propertyrecord-search/Kern-County_CA',\n",
       " 'Kings County': '/propertyrecord-search/Kings-County_CA',\n",
       " 'Lake County': '/propertyrecord-search/Lake-County_CA',\n",
       " 'Lassen County': '/propertyrecord-search/Lassen-County_CA',\n",
       " 'Los Angeles County': '/propertyrecord-search/Los-Angeles-County_CA',\n",
       " 'Madera County': '/propertyrecord-search/Madera-County_CA',\n",
       " 'Marin County': '/propertyrecord-search/Marin-County_CA',\n",
       " 'Mariposa County': '/propertyrecord-search/Mariposa-County_CA',\n",
       " 'Mendocino County': '/propertyrecord-search/Mendocino-County_CA',\n",
       " 'Merced County': '/propertyrecord-search/Merced-County_CA',\n",
       " 'Modoc County': '/propertyrecord-search/Modoc-County_CA',\n",
       " 'Mono County': '/propertyrecord-search/Mono-County_CA',\n",
       " 'Monterey County': '/propertyrecord-search/Monterey-County_CA',\n",
       " 'Napa County': '/propertyrecord-search/Napa-County_CA',\n",
       " 'Nevada County': '/propertyrecord-search/Nevada-County_CA',\n",
       " 'Orange County': '/propertyrecord-search/Orange-County_CA',\n",
       " 'Placer County': '/propertyrecord-search/Placer-County_CA',\n",
       " 'Plumas County': '/propertyrecord-search/Plumas-County_CA',\n",
       " 'Riverside County': '/propertyrecord-search/Riverside-County_CA',\n",
       " 'Sacramento County': '/propertyrecord-search/Sacramento-County_CA',\n",
       " 'San Benito County': '/propertyrecord-search/San-Benito-County_CA',\n",
       " 'San Bernardino County': '/propertyrecord-search/San-Bernardino-County_CA',\n",
       " 'San Diego County': '/propertyrecord-search/San-Diego-County_CA',\n",
       " 'San Francisco County': '/propertyrecord-search/San-Francisco-County_CA',\n",
       " 'San Joaquin County': '/propertyrecord-search/San-Joaquin-County_CA',\n",
       " 'San Luis Obispo County': '/propertyrecord-search/San-Luis-Obispo-County_CA',\n",
       " 'San Mateo County': '/propertyrecord-search/San-Mateo-County_CA',\n",
       " 'Santa Barbara County': '/propertyrecord-search/Santa-Barbara-County_CA',\n",
       " 'Santa Clara County': '/propertyrecord-search/Santa-Clara-County_CA',\n",
       " 'Santa Cruz County': '/propertyrecord-search/Santa-Cruz-County_CA',\n",
       " 'Shasta County': '/propertyrecord-search/Shasta-County_CA',\n",
       " 'Sierra County': '/propertyrecord-search/Sierra-County_CA',\n",
       " 'Siskiyou County': '/propertyrecord-search/Siskiyou-County_CA',\n",
       " 'Solano County': '/propertyrecord-search/Solano-County_CA',\n",
       " 'Sonoma County': '/propertyrecord-search/Sonoma-County_CA',\n",
       " 'Stanislaus County': '/propertyrecord-search/Stanislaus-County_CA',\n",
       " 'Sutter County': '/propertyrecord-search/Sutter-County_CA',\n",
       " 'Tehama County': '/propertyrecord-search/Tehama-County_CA',\n",
       " 'Trinity County': '/propertyrecord-search/Trinity-County_CA',\n",
       " 'Tulare County': '/propertyrecord-search/Tulare-County_CA',\n",
       " 'Tuolumne County': '/propertyrecord-search/Tuolumne-County_CA',\n",
       " 'Ventura County': '/propertyrecord-search/Ventura-County_CA',\n",
       " 'Yolo County': '/propertyrecord-search/Yolo-County_CA',\n",
       " 'Yuba County': '/propertyrecord-search/Yuba-County_CA'}"
      ]
     },
     "execution_count": 14,
     "metadata": {},
     "output_type": "execute_result"
    }
   ],
   "source": [
    "counties"
   ]
  },
  {
   "cell_type": "code",
   "execution_count": 15,
   "id": "4c445bd0",
   "metadata": {},
   "outputs": [],
   "source": [
    "browser.quit()"
   ]
  }
 ],
 "metadata": {
  "kernelspec": {
   "display_name": "PythonData",
   "language": "python",
   "name": "pythondata"
  },
  "language_info": {
   "codemirror_mode": {
    "name": "ipython",
    "version": 3
   },
   "file_extension": ".py",
   "mimetype": "text/x-python",
   "name": "python",
   "nbconvert_exporter": "python",
   "pygments_lexer": "ipython3",
   "version": "3.9.7"
  }
 },
 "nbformat": 4,
 "nbformat_minor": 5
}
